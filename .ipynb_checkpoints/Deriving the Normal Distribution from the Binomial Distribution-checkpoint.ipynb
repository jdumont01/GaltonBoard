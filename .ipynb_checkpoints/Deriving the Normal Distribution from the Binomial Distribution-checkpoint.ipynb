{
 "cells": [
  {
   "cell_type": "markdown",
   "id": "d6e9b284",
   "metadata": {},
   "source": [
    "Deriving the Normal Distribution from the Binomial Distribution"
   ]
  },
  {
   "cell_type": "markdown",
   "id": "529615da",
   "metadata": {
    "heading_collapsed": true
   },
   "source": [
    "# Purpose"
   ]
  },
  {
   "cell_type": "markdown",
   "id": "91d59079",
   "metadata": {
    "hidden": true
   },
   "source": [
    "The purpose of this page, is to derive the Normal Distribution from the Binomial Distribution as a reference for the Galton Board project."
   ]
  },
  {
   "cell_type": "markdown",
   "id": "24d154fc",
   "metadata": {},
   "source": [
    "# Binomial Distribution"
   ]
  },
  {
   "cell_type": "markdown",
   "id": "8eb4d549",
   "metadata": {},
   "source": []
  },
  {
   "cell_type": "markdown",
   "id": "fee7fd0c",
   "metadata": {
    "ExecuteTime": {
     "end_time": "2022-01-11T23:58:31.153479Z",
     "start_time": "2022-01-11T23:58:31.141420Z"
    }
   },
   "source": [
    "## Why is it Important?"
   ]
  },
  {
   "cell_type": "markdown",
   "id": "78b11326",
   "metadata": {
    "ExecuteTime": {
     "end_time": "2022-01-11T23:57:27.885420Z",
     "start_time": "2022-01-11T23:57:27.877067Z"
    }
   },
   "source": [
    "The Binomial distribution is a fundamental way to calculate the probability of a path, k, in a tree of $2^{n}$ possible results.  There may be, as we saw in the Galton Board, several ways to traverse the board to get a point that is between bondaries.  For example, with a board that is 4 levels deep, there are 5 ending points (or buckets).  To end up in either the first or the last bucket, only one path can be traversed.  For the second and the fourth buckets, there are 4 possbile paths and for the middle bucket there are 6 possible paths. \n",
    "\n",
    "|Bucket Number|Possible Paths|Number of Paths|\n",
    "| :-: | :-: | :-: |\n",
    "|1|LLLL|1|\n",
    "|2|RLLL, LRLL, LLRL, LLLR|4|\n",
    "|3|RRLL, RLRL, RLLR, LRRL, LRLR, LLRR|6|\n",
    "|4|LRRR, RLRR, RRLR, RRRL|4|\n",
    "|5|RRRR|1|\n",
    "\n",
    "The total number of possible paths is 1 + 4 + 6 + 4 + 1 = 16 = $2^4$.  The probability of reaching any bucket is the number of possible paths to get to that bucket divided by the total number of possible paths.  The following table includes the probability of reaching the final state of any bucket.  \n",
    "\n",
    "|Bucket Number|Possible Paths|Number of Paths|Probability|\n",
    "| :-: | :-: | :-: | :-:|\n",
    "|1|LLLL|1|1/16 = 0.0625|\n",
    "|2|RLLL, LRLL, LLRL, LLLR|4|4/16 = 0.25|\n",
    "|3|RRLL, RLRL, RLLR, LRRL, LRLR, LLRR|6|6/16 = 0.375|\n",
    "|4|LRRR, RLRR, RRLR, RRRL|4|4/16 = 0.25|\n",
    "|5|RRRR|1|1/16 = 0.0625|\n",
    "\n",
    "Note that the sum of the probabilities has to be 1, otherwise there are paths that have not been accounted for.  In this example, the sum of the probabilities: 0.0625 + 0.25 + 0.375 + 0.25 + 0.0625 = 1. \n",
    "\n",
    "Picture a Galton Board configuration in which the depth is 100.  To perform the same manual analysis on this board to list all of the possible paths to get to a single bucket would take a long time.  There are a total of $2^{100} = 1.267 \\cdot 10^{30}$ possbilities.  Good luck with that without writing a program!\n",
    "\n",
    "So how can we determine the number of possible paths to get to a bucket (endpoint) for any given board of depth d?  The answer lies in the Binomial Distribution. \n",
    "\n",
    "Let's start by asking how many ways can we get to a bucket?  That is answered using combinatorics.  Specifically, if we have n steps, the number of possible ways we can get to the k-th bucket is\n",
    "\n",
    "\\begin{align}\n",
    "\\frac{n!}{k! \\cdot (n - k)!}\n",
    "\\end{align}\n",
    "\n",
    "Referring to the example above for a board of depth 4, we can calculate the number of paths to each bucket.  Note that $k \\leq n$.\n",
    "\n",
    "|Bucket Number (0 index)|Possible Paths|Number of Paths|\n",
    "| :-: | :-: | :-: |\n",
    "|0|LLLL|$\\frac{4!}{0! \\cdot (4 - 0)!} = \\frac{4!}{4!}$ = 1|\n",
    "|1|RLLL, LRLL, LLRL, LLLR|$\\frac{4!}{1! \\cdot (4 - 1)!} = \\frac{4!}{3!}$ = 4|\n",
    "|2|RRLL, RLRL, RLLR, LRRL, LRLR, LLRR|$\\frac{4!}{2! \\cdot (4 - 2)!} = \\frac{4!}{2 \\cdot 2}$ = 6|\n",
    "|3|LRRR, RLRR, RRLR, RRRL|$\\frac{4!}{3! \\cdot (4 - 3)!} = \\frac{4!}{3!}$ = 4|\n",
    "|4|RRRR|$\\frac{4!}{4! \\cdot (4 - 4)!} = \\frac{4!}{4!}$ = 1|\n",
    "\n",
    "Now the we know how to calculate the number of ways to reach an endpoint k, given a path of n steps, the next step is to determine how to calculate the probability of reaching endpoint k.  \n",
    "\n",
    "This is where the Binomial Distribution takes center stage.  It states that given the number of possible paths to get to an endpoint, the probability of reaching that endpoint k is\n",
    "\n",
    "\\begin{align}\n",
    "P = \\binom{n}{k} \\cdot p^k \\cdot (1 - p)^{n-k}\n",
    "\\end{align}\n",
    "\n",
    "For the Galton board, p = 1/2 because there is an equal chance of the ball going left or right.  Therefore,\n",
    "\\begin{align}\n",
    "P &= \\binom{n}{k} \\cdot p^k \\cdot (1 - p)^{n-k} \\\\\n",
    "&= \\binom{n}{k} \\cdot (\\frac{1}{2} )^k \\cdot (1 - \\frac{1}{2} )^{n-k} \\\\\n",
    "&= \\binom{n}{k} \\cdot (\\frac{1}{2} )^k \\cdot (\\frac{1}{2} )^{n-k} \\\\\n",
    "&= \\binom{n}{k} \\cdot (\\frac{1}{2} )^n \\\\\n",
    "&= \\frac{n!}{k! \\cdot (n - k)!} \\cdot (\\frac{1}{2} )^n \n",
    "\\end{align}\n",
    "\n",
    "Now the probabilities can be added to the table:\n",
    "\n",
    "|Bucket Number (0 index)|Possible Paths|Number of Paths|Probability (#Paths x $\\cdot (\\frac{1}{2})^n$) |\n",
    "| :-: | :-: | :-: | :-: |\n",
    "|0|LLLL|$\\frac{4!}{0! \\cdot (4 - 0)!} = \\frac{4!}{4!}$ = 1| $1 \\cdot (\\frac{1}{2})^4 $ = 1/16 = 0.0625|\n",
    "|1|RLLL, LRLL, LLRL, LLLR|$\\frac{4!}{1! \\cdot (4 - 1)!} = \\frac{4!}{3!}$ = 4| $4 \\cdot (\\frac{1}{2})^4 $ = 4/16 = 0.25|\n",
    "|2|RRLL, RLRL, RLLR, LRRL, LRLR, LLRR|$\\frac{4!}{2! \\cdot (4 - 2)!} = \\frac{4!}{2 \\cdot 2}$ = 6| $6 \\cdot (\\frac{1}{2})^4 $ = 6/16 = 0.375|\n",
    "|3|LRRR, RLRR, RRLR, RRRL|$\\frac{4!}{3! \\cdot (4 - 3)!} = \\frac{4!}{3!}$ = 4| $4 \\cdot (\\frac{1}{2})^4 $ = 4/16 = 0.25|\n",
    "|4|RRRR|$\\frac{4!}{4! \\cdot (4 - 4)!} = \\frac{4!}{4!}$ = 1| $1 \\cdot (\\frac{1}{2})^4 $ = 1/16|\n",
    "\n",
    "Now we have a way to calculate the number of paths that can be traversed in a Galton Board, to reach a specific endpoint or bucket."
   ]
  },
  {
   "cell_type": "code",
   "execution_count": 17,
   "id": "a3442020",
   "metadata": {
    "ExecuteTime": {
     "end_time": "2022-01-13T23:02:40.575024Z",
     "start_time": "2022-01-13T23:02:39.921828Z"
    }
   },
   "outputs": [
    {
     "name": "stdout",
     "output_type": "stream",
     "text": [
      "**** Galton Board Output for Depth 70 ****\n",
      "**** Possible Paths 1.180592e+21 \n",
      "Bucket, Possible Paths, Probability Frac, Probability\n",
      "     0,1.00000e+00,1.00000e+00/1.18059e+21,8.47033e-22\n",
      "     1,7.00000e+01,7.00000e+01/1.18059e+21,5.92923e-20\n",
      "     2,2.41500e+03,2.41500e+03/1.18059e+21,2.04558e-18\n",
      "     3,5.47400e+04,5.47400e+04/1.18059e+21,4.63666e-17\n",
      "     4,9.16895e+05,9.16895e+05/1.18059e+21,7.76640e-16\n",
      "     5,1.21030e+07,1.21030e+07/1.18059e+21,1.02517e-14\n",
      "     6,1.31116e+08,1.31116e+08/1.18059e+21,1.11060e-13\n",
      "     7,1.19877e+09,1.19877e+09/1.18059e+21,1.01540e-12\n",
      "     8,9.44035e+09,9.44035e+09/1.18059e+21,7.99629e-12\n",
      "     9,6.50335e+10,6.50335e+10/1.18059e+21,5.50855e-11\n",
      "    10,3.96705e+11,3.96705e+11/1.18059e+21,3.36022e-10\n",
      "    11,2.16384e+12,2.16384e+12/1.18059e+21,1.83285e-09\n",
      "    12,1.06389e+13,1.06389e+13/1.18059e+21,9.01149e-09\n",
      "    13,4.74658e+13,4.74658e+13/1.18059e+21,4.02051e-08\n",
      "    14,1.93254e+14,1.93254e+14/1.18059e+21,1.63692e-07\n",
      "    15,7.21481e+14,7.21481e+14/1.18059e+21,6.11118e-07\n",
      "    16,2.48009e+15,2.48009e+15/1.18059e+21,2.10072e-06\n",
      "    17,7.87793e+15,7.87793e+15/1.18059e+21,6.67287e-06\n",
      "    18,2.31961e+16,2.31961e+16/1.18059e+21,1.96479e-05\n",
      "    19,6.34842e+16,6.34842e+16/1.18059e+21,5.37732e-05\n",
      "    20,1.61885e+17,1.61885e+17/1.18059e+21,1.37122e-04\n",
      "    21,3.85440e+17,3.85440e+17/1.18059e+21,3.26480e-04\n",
      "    22,8.58479e+17,8.58479e+17/1.18059e+21,7.27160e-04\n",
      "    23,1.79161e+18,1.79161e+18/1.18059e+21,1.51755e-03\n",
      "    24,3.50857e+18,3.50857e+18/1.18059e+21,2.97187e-03\n",
      "    25,6.45576e+18,6.45576e+18/1.18059e+21,5.46824e-03\n",
      "    26,1.11734e+19,1.11734e+19/1.18059e+21,9.46427e-03\n",
      "    27,1.82086e+19,1.82086e+19/1.18059e+21,1.54232e-02\n",
      "    28,2.79631e+19,2.79631e+19/1.18059e+21,2.36857e-02\n",
      "    29,4.04983e+19,4.04983e+19/1.18059e+21,3.43034e-02\n",
      "    30,5.53477e+19,5.53477e+19/1.18059e+21,4.68814e-02\n",
      "    31,7.14164e+19,7.14164e+19/1.18059e+21,6.04921e-02\n",
      "    32,8.70388e+19,8.70388e+19/1.18059e+21,7.37247e-02\n",
      "    33,1.00226e+20,1.00226e+20/1.18059e+21,8.48951e-02\n",
      "    34,1.09070e+20,1.09070e+20/1.18059e+21,9.23859e-02\n",
      "    35,1.12186e+20,1.12186e+20/1.18059e+21,9.50255e-02\n",
      "    36,1.09070e+20,1.09070e+20/1.18059e+21,9.23859e-02\n",
      "    37,1.00226e+20,1.00226e+20/1.18059e+21,8.48951e-02\n",
      "    38,8.70388e+19,8.70388e+19/1.18059e+21,7.37247e-02\n",
      "    39,7.14164e+19,7.14164e+19/1.18059e+21,6.04921e-02\n",
      "    40,5.53477e+19,5.53477e+19/1.18059e+21,4.68814e-02\n",
      "    41,4.04983e+19,4.04983e+19/1.18059e+21,3.43034e-02\n",
      "    42,2.79631e+19,2.79631e+19/1.18059e+21,2.36857e-02\n",
      "    43,1.82086e+19,1.82086e+19/1.18059e+21,1.54232e-02\n",
      "    44,1.11734e+19,1.11734e+19/1.18059e+21,9.46427e-03\n",
      "    45,6.45576e+18,6.45576e+18/1.18059e+21,5.46824e-03\n",
      "    46,3.50857e+18,3.50857e+18/1.18059e+21,2.97187e-03\n",
      "    47,1.79161e+18,1.79161e+18/1.18059e+21,1.51755e-03\n",
      "    48,8.58479e+17,8.58479e+17/1.18059e+21,7.27160e-04\n",
      "    49,3.85440e+17,3.85440e+17/1.18059e+21,3.26480e-04\n",
      "    50,1.61885e+17,1.61885e+17/1.18059e+21,1.37122e-04\n",
      "    51,6.34842e+16,6.34842e+16/1.18059e+21,5.37732e-05\n",
      "    52,2.31961e+16,2.31961e+16/1.18059e+21,1.96479e-05\n",
      "    53,7.87793e+15,7.87793e+15/1.18059e+21,6.67287e-06\n",
      "    54,2.48009e+15,2.48009e+15/1.18059e+21,2.10072e-06\n",
      "    55,7.21481e+14,7.21481e+14/1.18059e+21,6.11118e-07\n",
      "    56,1.93254e+14,1.93254e+14/1.18059e+21,1.63692e-07\n",
      "    57,4.74658e+13,4.74658e+13/1.18059e+21,4.02051e-08\n",
      "    58,1.06389e+13,1.06389e+13/1.18059e+21,9.01149e-09\n",
      "    59,2.16384e+12,2.16384e+12/1.18059e+21,1.83285e-09\n",
      "    60,3.96705e+11,3.96705e+11/1.18059e+21,3.36022e-10\n",
      "    61,6.50335e+10,6.50335e+10/1.18059e+21,5.50855e-11\n",
      "    62,9.44035e+09,9.44035e+09/1.18059e+21,7.99629e-12\n",
      "    63,1.19877e+09,1.19877e+09/1.18059e+21,1.01540e-12\n",
      "    64,1.31116e+08,1.31116e+08/1.18059e+21,1.11060e-13\n",
      "    65,1.21030e+07,1.21030e+07/1.18059e+21,1.02517e-14\n",
      "    66,9.16895e+05,9.16895e+05/1.18059e+21,7.76640e-16\n",
      "    67,5.47400e+04,5.47400e+04/1.18059e+21,4.63666e-17\n",
      "    68,2.41500e+03,2.41500e+03/1.18059e+21,2.04558e-18\n",
      "    69,7.00000e+01,7.00000e+01/1.18059e+21,5.92923e-20\n",
      "    70,1.00000e+00,1.00000e+00/1.18059e+21,8.47033e-22\n"
     ]
    },
    {
     "data": {
      "image/png": "[encoded data removed]",
      "text/plain": [
       "<Figure size 1080x360 with 1 Axes>"
      ]
     },
     "metadata": {
      "needs_background": "light"
     },
     "output_type": "display_data"
    }
   ],
   "source": [
    "import math\n",
    "import matplotlib.pyplot as plt\n",
    "import numpy as np\n",
    "\n",
    "SMALL_BOARD_DEPTH = 10\n",
    "\n",
    "def binomialCoefficient(n: int, k: int):\n",
    "    \"\"\"Ensure n and k and the return value are integers\"\"\"\n",
    "    nFactorial = math.factorial(n)\n",
    "    kFactorial = math.factorial(k)\n",
    "    diffFactorial = math.factorial(n - k)\n",
    "    \n",
    "    return int(nFactorial/(kFactorial * diffFactorial))\n",
    "\n",
    "def probabilityForBucket(c: int, t: int):\n",
    "    \"\"\"Calculate the probability of reaching each endpoint.\"\"\"\n",
    "    return float(c/t)\n",
    "\n",
    "def addLabelValues(buckets, values):\n",
    "    \"\"\"Add the y value to a bar.\"\"\"\n",
    "    for i in range(len(buckets)):\n",
    "        plt.text(i,values[i],values[i], ha = 'center',\n",
    "                 bbox = dict(facecolor = 'red', alpha =0.8))    \n",
    "    \n",
    "    return    \n",
    " \n",
    "def plotResults(dataDict):\n",
    "    \"\"\"Plot a bar graph of the results\"\"\"\n",
    "    buckets = list(dataDict.keys())\n",
    "    values = list(dataDict.values())\n",
    "    nBuckets = len(buckets)\n",
    "    \n",
    "    fig = plt.figure(figsize = (15, 5))    \n",
    "    plt.bar(buckets, values, color = 'blue', width = 0.5)\n",
    "    \n",
    "    plt.xlabel(\"Bucket Number\")\n",
    "    plt.xticks(buckets)\n",
    "    plt.ylabel(\"Number of Paths to Bucket\\n(aka Binomial Coefficient)\")\n",
    "    plt.title(f'Histogram of Expected Paths For Board Depth {nBuckets:d}')\n",
    "    \n",
    "    # The plot looks messy if the y-values are printed for large boards.\n",
    "    if len(buckets) <= SMALL_BOARD_DEPTH:\n",
    "        addLabelValues(buckets, values)\n",
    "    plt.show()\n",
    "    \n",
    "    return\n",
    "\n",
    "def printHeader(boardDepth : int , totalPaths : int ):\n",
    "    \"\"\"boardDepth (int), totalPaths (int)\n",
    "        Print a common header for tabular output.\n",
    "    \"\"\"        \n",
    "    print (f'**** Galton Board Output for Depth {boardDepth} ****')\n",
    "    if boardDepth <= SMALL_BOARD_DEPTH:\n",
    "        print (f'**** Possible Paths {totalPaths:d} ')\n",
    "    else:\n",
    "        print (f'**** Possible Paths {totalPaths:2.6e} ')\n",
    "\n",
    "    return\n",
    "\n",
    "def printData( boardDepth : int , totalPaths : int, bucket : int, coeff : int, prob : float ):\n",
    "    \"\"\"boardDepth (int), totalPaths (int), bucket (int), coeff (int), prob (float)\n",
    "        prints the data in csv format\n",
    "    \"\"\"       \n",
    "    # special formatting based on the expected size of the numbers\n",
    "    if boardDepth <= SMALL_BOARD_DEPTH:\n",
    "        print (f'{bucket:6d},{coeff:15d},{coeff:10d}/{totalPaths:d},{prob:4.6f}')\n",
    "    else:\n",
    "        print (f'{bucket:6d},{coeff:2.5e},{coeff :2.5e}/{totalPaths:2.5e},{prob:2.5e}')\n",
    "    \n",
    "    return\n",
    "    \n",
    "def generateData(boardDepth : int , totalPaths : int ):\n",
    "    \"\"\"boardDepth (int), totalPaths (int)\n",
    "        return a list of data\n",
    "    \"\"\"\n",
    "    data = []\n",
    "    \n",
    "    print (f'Bucket, Possible Paths, Probability Frac, Probability')\n",
    "    for bucket in range(boardDepth + 1):\n",
    "        b = binomialCoefficient(boardDepth, bucket)\n",
    "        p = probabilityForBucket(b, totalPaths)\n",
    "       \n",
    "        printData(boardDepth, totalPaths, bucket, b, p)\n",
    "        \n",
    "        # add to the list of data    \n",
    "        data.append(b)\n",
    " \n",
    "    return data\n",
    "    \n",
    "def createPlot(data):\n",
    "    \"\"\"data is a list.\n",
    "       This method will convert the list to a dictionary and pass it\n",
    "       to a function to create a plot.\n",
    "    \"\"\"\n",
    "    dataDict = {}\n",
    "\n",
    "    # the dictionary needs to be zero based as the index is the bucket number\n",
    "    for i in range(len(data)):\n",
    "        dataDict[i]= data[i]\n",
    "        \n",
    "    plotResults(dataDict)\n",
    "\n",
    "    return\n",
    "    \n",
    "    \n",
    "# Client side code\n",
    "def main(boardDepth = 70):\n",
    "    totalPaths = 2 ** boardDepth\n",
    "    \n",
    "    printHeader(boardDepth, totalPaths)\n",
    "    data = generateData(boardDepth, totalPaths)\n",
    "    createPlot(data)\n",
    "    \n",
    "    return\n",
    "    \n",
    "# main method\n",
    "if __name__ == '__main__':\n",
    "    main()"
   ]
  },
  {
   "cell_type": "markdown",
   "id": "19756eaf",
   "metadata": {
    "ExecuteTime": {
     "end_time": "2022-01-11T23:58:31.168863Z",
     "start_time": "2022-01-11T23:58:31.156717Z"
    }
   },
   "source": [
    "## Derive the Mean and the Variance"
   ]
  },
  {
   "cell_type": "code",
   "execution_count": null,
   "id": "0fc147be",
   "metadata": {},
   "outputs": [],
   "source": []
  },
  {
   "cell_type": "markdown",
   "id": "9c208b4f",
   "metadata": {},
   "source": [
    "## Sample Calculation"
   ]
  },
  {
   "cell_type": "code",
   "execution_count": null,
   "id": "b2623d78",
   "metadata": {},
   "outputs": [],
   "source": []
  }
 ],
 "metadata": {
  "kernelspec": {
   "display_name": "Python 3",
   "language": "python",
   "name": "python3"
  },
  "language_info": {
   "codemirror_mode": {
    "name": "ipython",
    "version": 3
   },
   "file_extension": ".py",
   "mimetype": "text/x-python",
   "name": "python",
   "nbconvert_exporter": "python",
   "pygments_lexer": "ipython3",
   "version": "3.9.1"
  },
  "toc": {
   "base_numbering": 1,
   "nav_menu": {},
   "number_sections": true,
   "sideBar": true,
   "skip_h1_title": false,
   "title_cell": "Table of Contents",
   "title_sidebar": "Contents",
   "toc_cell": false,
   "toc_position": {},
   "toc_section_display": true,
   "toc_window_display": false
  },
  "varInspector": {
   "cols": {
    "lenName": 16,
    "lenType": 16,
    "lenVar": 40
   },
   "kernels_config": {
    "python": {
     "delete_cmd_postfix": "",
     "delete_cmd_prefix": "del ",
     "library": "var_list.py",
     "varRefreshCmd": "print(var_dic_list())"
    },
    "r": {
     "delete_cmd_postfix": ") ",
     "delete_cmd_prefix": "rm(",
     "library": "var_list.r",
     "varRefreshCmd": "cat(var_dic_list()) "
    }
   },
   "types_to_exclude": [
    "module",
    "function",
    "builtin_function_or_method",
    "instance",
    "_Feature"
   ],
   "window_display": false
  }
 },
 "nbformat": 4,
 "nbformat_minor": 5
}
