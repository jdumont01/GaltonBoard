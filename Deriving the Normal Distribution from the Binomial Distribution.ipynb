{
 "cells": [
  {
   "cell_type": "markdown",
   "id": "d6e9b284",
   "metadata": {},
   "source": [
    "Deriving the Normal Distribution from the Binomial Distribution"
   ]
  },
  {
   "cell_type": "markdown",
   "id": "529615da",
   "metadata": {
    "heading_collapsed": true
   },
   "source": [
    "# Purpose"
   ]
  },
  {
   "cell_type": "markdown",
   "id": "91d59079",
   "metadata": {
    "hidden": true
   },
   "source": [
    "The purpose of this page, is to derive the Normal Distribution from the Binomial Distribution as a reference for the Galton Board project."
   ]
  },
  {
   "cell_type": "markdown",
   "id": "9dc3a706",
   "metadata": {},
   "source": [
    "# Binomial Distribution"
   ]
  },
  {
   "cell_type": "markdown",
   "id": "00973f51",
   "metadata": {},
   "source": []
  },
  {
   "cell_type": "markdown",
   "id": "5598d386",
   "metadata": {
    "ExecuteTime": {
     "end_time": "2022-01-11T23:58:31.153479Z",
     "start_time": "2022-01-11T23:58:31.141420Z"
    }
   },
   "source": [
    "## Why is it Important?"
   ]
  },
  {
   "cell_type": "markdown",
   "id": "7f16f743",
   "metadata": {
    "ExecuteTime": {
     "end_time": "2022-01-11T23:57:27.885420Z",
     "start_time": "2022-01-11T23:57:27.877067Z"
    }
   },
   "source": [
    "The Binomial distribution is a fundamental way to calculate the probability of a path, k, in a tree of $2^{n}$ possible results.  There may be, as we saw in the Galton Board, several ways to traverse the board to get a point that is between bondaries.  For example, with a board that is 4 levels deep, there are 5 ending points (or buckets).  To end up in either the first or the last bucket, only one path can be traversed.  For the second and the fourth buckets, there are 4 possbile paths and for the middle bucket there are 6 possible paths. \n",
    "\n",
    "|Bucket Number|Possible Paths|Number of Paths|\n",
    "| :-: | :-: | :-: |\n",
    "|1|LLLL|1|\n",
    "|2|RLLL, LRLL, LLRL, LLLR|4|\n",
    "|3|RRLL, RLRL, RLLR, LRRL, LRLR, LLRR|6|\n",
    "|4|LRRR, RLRR, RRLR, RRRL|4|\n",
    "|5|LLLL|1|\n",
    "\n",
    "The total number of possible paths is 1 + 4 + 6 + 4 + 1 = 16 = $2^4$.  The probability of reaching any bucket is the number of possible paths to get to that bucket divided by the total number of possible paths.  The following table includes the probability of reaching the final state of any bucket.  \n",
    "\n",
    "|Bucket Number|Possible Paths|Number of Paths|Probability|\n",
    "| :-: | :-: | :-: | :-:|\n",
    "|1|LLLL|1|1/16 = 0.0625|\n",
    "|2|RLLL, LRLL, LLRL, LLLR|4|4/16 = 0.25|\n",
    "|3|RRLL, RLRL, RLLR, LRRL, LRLR, LLRR|6|6/16 = 0.375|\n",
    "|4|LRRR, RLRR, RRLR, RRRL|4|4/16 = 0.25|\n",
    "|5|LLLL|1|1/16 = 0.0625|\n",
    "\n",
    "Note that the sum of the probabilities has to be 1, otherwise there are paths that have not been accounted for.  In this example, the sum of the probabilities: 0.0625 + 0.25 + 0.375 + 0.25 + 0.0625 = 1. \n",
    "\n",
    "Picture a Galton Board configuration in which the depth is 100.  To perform the same manual analysis on this board to list all of the possible paths to get to a single bucket would take a long time.  There are a total of $2^{100} = 1.267 \\cdot 10^{30}$ possbilities.  Good luck with that without writing a program!\n",
    "\n",
    "So how can we determine the number of possible paths to get to a bucket (endpoint) for any given board of depth d?  The answer lies in the Binomial Distribution. \n",
    "\n",
    "Let's start by asking how many ways can we get to a bucket?  That is answered using combinatorics.  Specifically, if we have n steps, the number of possible ways we can get to the k-th bucket is\n",
    "\n",
    "\\begin{align}\n",
    "\\frac{n!}{k! \\cdot (n - k)!}\n",
    "\\end{align}\n",
    "\n",
    "Referring to the example above for a board of depth 4, we can calculate the number of paths to each bucket.  Note that $k \\leq n$.\n",
    "\n",
    "|Bucket Number (0 index)|Possible Paths|Number of Paths|\n",
    "| :-: | :-: | :-: |\n",
    "|0|LLLL|$\\frac{4!}{0! \\cdot (4 - 0)!} = \\frac{4!}{4!}$ = 1|\n",
    "|1|RLLL, LRLL, LLRL, LLLR|$\\frac{4!}{1! \\cdot (4 - 1)!} = \\frac{4!}{3!}$ = 4|\n",
    "|2|RRLL, RLRL, RLLR, LRRL, LRLR, LLRR|$\\frac{4!}{2! \\cdot (4 - 2)!} = \\frac{4!}{2 \\cdot 2}$ = 6|\n",
    "|3|LRRR, RLRR, RRLR, RRRL|$\\frac{4!}{3! \\cdot (4 - 3)!} = \\frac{4!}{3!}$ = 4|\n",
    "|4|LLLL|$\\frac{4!}{4! \\cdot (4 - 4)!} = \\frac{4!}{4!}$ = 1|\n",
    "\n",
    "Now the we know how to calculate the number of ways to reach an endpoint k, given a path of n steps, the next step is to determine how to calculate the probability of reaching endpoint k.  \n",
    "\n",
    "This is where the Binomial Distribution takes center stage.  It states that given the number of possible paths to get to an endpoint, the probability of reaching that endpoint k is\n",
    "\n",
    "\\begin{align}\n",
    "P = \\binom{n}{k} \\cdot p^k \\cdot (1 - p)^{n-k}\n",
    "\\end{align}\n",
    "\n",
    "For the Galton board, p = 1/2 because there is an equal chance of the ball going left or right.  Therefore,\n",
    "\\begin{align}\n",
    "P &= \\binom{n}{k} \\cdot p^k \\cdot (1 - p)^{n-k} \\\\\n",
    "&= \\binom{n}{k} \\cdot (\\frac{1}{2} )^k \\cdot (1 - \\frac{1}{2} )^{n-k} \\\\\n",
    "&= \\binom{n}{k} \\cdot (\\frac{1}{2} )^k \\cdot (\\frac{1}{2} )^{n-k} \\\\\n",
    "&= \\binom{n}{k} \\cdot (\\frac{1}{2} )^n \\\\\n",
    "&= \\frac{n!}{k! \\cdot (n - k)!} \\cdot (\\frac{1}{2} )^n \n",
    "\\end{align}\n",
    "\n",
    "Now the probabilities can be added to the table:\n",
    "\n",
    "|Bucket Number (0 index)|Possible Paths|Number of Paths|Probability (#Paths x $\\cdot (\\frac{1}{2})^n$) |\n",
    "| :-: | :-: | :-: | :-: |\n",
    "|0|LLLL|$\\frac{4!}{0! \\cdot (4 - 0)!} = \\frac{4!}{4!}$ = 1| $1 \\cdot (\\frac{1}{2})^4 $ = 1/16 = 0.0625|\n",
    "|1|RLLL, LRLL, LLRL, LLLR|$\\frac{4!}{1! \\cdot (4 - 1)!} = \\frac{4!}{3!}$ = 4| $4 \\cdot (\\frac{1}{2})^4 $ = 4/16 = 0.25|\n",
    "|2|RRLL, RLRL, RLLR, LRRL, LRLR, LLRR|$\\frac{4!}{2! \\cdot (4 - 2)!} = \\frac{4!}{2 \\cdot 2}$ = 6| $6 \\cdot (\\frac{1}{2})^4 $ = 6/16 = 0.375|\n",
    "|3|LRRR, RLRR, RRLR, RRRL|$\\frac{4!}{3! \\cdot (4 - 3)!} = \\frac{4!}{3!}$ = 4| $4 \\cdot (\\frac{1}{2})^4 $ = 4/16 = 0.25|\n",
    "|4|LLLL|$\\frac{4!}{4! \\cdot (4 - 4)!} = \\frac{4!}{4!}$ = 1| $1 \\cdot (\\frac{1}{2})^4 $ = 1/16|\n",
    "\n",
    "\n",
    "\n"
   ]
  },
  {
   "cell_type": "code",
   "execution_count": null,
   "id": "eccf2d53",
   "metadata": {},
   "outputs": [],
   "source": []
  },
  {
   "cell_type": "markdown",
   "id": "ea5a0172",
   "metadata": {
    "ExecuteTime": {
     "end_time": "2022-01-11T23:58:31.168863Z",
     "start_time": "2022-01-11T23:58:31.156717Z"
    }
   },
   "source": [
    "## Derive the Mean and the Variance"
   ]
  },
  {
   "cell_type": "code",
   "execution_count": null,
   "id": "6a7af8eb",
   "metadata": {},
   "outputs": [],
   "source": []
  },
  {
   "cell_type": "markdown",
   "id": "518050cf",
   "metadata": {},
   "source": [
    "## Sample Calculation"
   ]
  },
  {
   "cell_type": "code",
   "execution_count": null,
   "id": "73293e8a",
   "metadata": {},
   "outputs": [],
   "source": []
  }
 ],
 "metadata": {
  "kernelspec": {
   "display_name": "Python 3",
   "language": "python",
   "name": "python3"
  },
  "language_info": {
   "codemirror_mode": {
    "name": "ipython",
    "version": 3
   },
   "file_extension": ".py",
   "mimetype": "text/x-python",
   "name": "python",
   "nbconvert_exporter": "python",
   "pygments_lexer": "ipython3",
   "version": "3.9.1"
  },
  "toc": {
   "base_numbering": 1,
   "nav_menu": {},
   "number_sections": true,
   "sideBar": true,
   "skip_h1_title": false,
   "title_cell": "Table of Contents",
   "title_sidebar": "Contents",
   "toc_cell": false,
   "toc_position": {},
   "toc_section_display": true,
   "toc_window_display": false
  },
  "varInspector": {
   "cols": {
    "lenName": 16,
    "lenType": 16,
    "lenVar": 40
   },
   "kernels_config": {
    "python": {
     "delete_cmd_postfix": "",
     "delete_cmd_prefix": "del ",
     "library": "var_list.py",
     "varRefreshCmd": "print(var_dic_list())"
    },
    "r": {
     "delete_cmd_postfix": ") ",
     "delete_cmd_prefix": "rm(",
     "library": "var_list.r",
     "varRefreshCmd": "cat(var_dic_list()) "
    }
   },
   "types_to_exclude": [
    "module",
    "function",
    "builtin_function_or_method",
    "instance",
    "_Feature"
   ],
   "window_display": false
  }
 },
 "nbformat": 4,
 "nbformat_minor": 5
}
