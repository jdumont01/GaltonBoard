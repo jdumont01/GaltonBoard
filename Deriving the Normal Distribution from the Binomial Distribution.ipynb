{
 "cells": [
  {
   "cell_type": "markdown",
   "id": "d6e9b284",
   "metadata": {},
   "source": [
    "Deriving the Normal Distribution from the Binomial Distribution"
   ]
  },
  {
   "cell_type": "markdown",
   "id": "529615da",
   "metadata": {},
   "source": [
    "# Purpose"
   ]
  },
  {
   "cell_type": "markdown",
   "id": "91d59079",
   "metadata": {},
   "source": [
    "The purpose of this page, is to derive the Normal Distribution from the Binomial Distribution as a reference for the Galton Board project.  For the purposes of predicting the probability of a ball reaching a certain bucket, the Binomial distribution will be used.  The derivation of the Poisson and the Guassian distributions has been added for fun."
   ]
  },
  {
   "cell_type": "markdown",
   "id": "bf87814c",
   "metadata": {},
   "source": [
    "# Binomial Distribution"
   ]
  },
  {
   "cell_type": "markdown",
   "id": "c8bcef96",
   "metadata": {},
   "source": [
    "One question that gets asked when observing the results of a Galton Board is, given a number of balls to be dropped into the Galton Board, how can we predict the number of balls in any of the buckets?  And what is the probability of the next ball reaching a specific bucket.  This section answers these questions."
   ]
  },
  {
   "cell_type": "markdown",
   "id": "ebb92776",
   "metadata": {
    "ExecuteTime": {
     "end_time": "2022-01-11T23:58:31.153479Z",
     "start_time": "2022-01-11T23:58:31.141420Z"
    }
   },
   "source": [
    "## Why is it Important?"
   ]
  },
  {
   "cell_type": "markdown",
   "id": "efcd90de",
   "metadata": {
    "ExecuteTime": {
     "end_time": "2022-01-11T23:57:27.885420Z",
     "start_time": "2022-01-11T23:57:27.877067Z"
    }
   },
   "source": [
    "The Binomial distribution is a fundamental way to calculate the probability of a path, k, in a tree of $2^{n}$ possible results.  There may be, as we saw in the Galton Board, several ways to traverse the board to get a point that is between bondaries.  For example, with a board that is 4 levels deep, there are 5 ending points (or buckets).  To end up in either the first or the last bucket, only one path can be traversed.  For the second and the fourth buckets, there are 4 possbile paths and for the middle bucket there are 6 possible paths. \n",
    "\n",
    "|Bucket Number|Possible Paths|Number of Paths|\n",
    "| :-: | :-: | :-: |\n",
    "|1|LLLL|1|\n",
    "|2|RLLL, LRLL, LLRL, LLLR|4|\n",
    "|3|RRLL, RLRL, RLLR, LRRL, LRLR, LLRR|6|\n",
    "|4|LRRR, RLRR, RRLR, RRRL|4|\n",
    "|5|RRRR|1|\n",
    "\n",
    "The total number of possible paths is 1 + 4 + 6 + 4 + 1 = 16 = $2^4$.  The probability of reaching any bucket is the number of possible paths to get to that bucket divided by the total number of possible paths.  The following table includes the probability of reaching the final state of any bucket.  \n",
    "\n",
    "|Bucket Number|Possible Paths|Number of Paths|Probability|\n",
    "| :-: | :-: | :-: | :-:|\n",
    "|1|LLLL|1|1/16 = 0.0625|\n",
    "|2|RLLL, LRLL, LLRL, LLLR|4|4/16 = 0.25|\n",
    "|3|RRLL, RLRL, RLLR, LRRL, LRLR, LLRR|6|6/16 = 0.375|\n",
    "|4|LRRR, RLRR, RRLR, RRRL|4|4/16 = 0.25|\n",
    "|5|RRRR|1|1/16 = 0.0625|\n",
    "\n",
    "Note that the sum of the probabilities has to be 1, otherwise there are paths that have not been accounted for.  In this example, the sum of the probabilities: 0.0625 + 0.25 + 0.375 + 0.25 + 0.0625 = 1. \n",
    "\n",
    "Picture a Galton Board configuration in which the depth is 100.  To perform the same manual analysis on this board to list all of the possible paths to get to a single bucket would take a long time.  There are a total of $2^{100} = 1.267 \\cdot 10^{30}$ possbilities.  Good luck with that without writing a program!\n",
    "\n",
    "So how can we determine the number of possible paths to get to a bucket (endpoint) for any given board of depth d?  The answer lies in the Binomial Distribution. \n",
    "\n",
    "Let's start by asking how many ways can we get to a bucket?  That is answered using combinatorics.  Specifically, if we have n steps, the number of possible ways we can get to the k-th bucket is\n",
    "\n",
    "\\begin{align}\n",
    "\\frac{n!}{k! \\cdot (n - k)!}\n",
    "\\end{align}\n",
    "\n",
    "Referring to the example above for a board of depth 4, we can calculate the number of paths to each bucket.  Note that $k \\leq n$.\n",
    "\n",
    "|Bucket Number (0 index)|Possible Paths|Number of Paths|\n",
    "| :-: | :-: | :-: |\n",
    "|0|LLLL|$\\frac{4!}{0! \\cdot (4 - 0)!} = \\frac{4!}{4!}$ = 1|\n",
    "|1|RLLL, LRLL, LLRL, LLLR|$\\frac{4!}{1! \\cdot (4 - 1)!} = \\frac{4!}{3!}$ = 4|\n",
    "|2|RRLL, RLRL, RLLR, LRRL, LRLR, LLRR|$\\frac{4!}{2! \\cdot (4 - 2)!} = \\frac{4!}{2 \\cdot 2}$ = 6|\n",
    "|3|LRRR, RLRR, RRLR, RRRL|$\\frac{4!}{3! \\cdot (4 - 3)!} = \\frac{4!}{3!}$ = 4|\n",
    "|4|RRRR|$\\frac{4!}{4! \\cdot (4 - 4)!} = \\frac{4!}{4!}$ = 1|\n",
    "\n",
    "Now the we know how to calculate the number of ways to reach an endpoint k, given a path of n steps, the next step is to determine how to calculate the probability of reaching endpoint k.  \n",
    "\n",
    "This is where the Binomial Distribution takes center stage.  It states that given the number of possible paths to get to an endpoint, the probability of reaching that endpoint k is\n",
    "\n",
    "\\begin{align}\n",
    "P = \\binom{n}{k} \\cdot p^k \\cdot (1 - p)^{n-k}\n",
    "\\end{align}\n",
    "\n",
    "For the Galton board, p = 1/2 because there is an equal chance of the ball going left or right.  Therefore,\n",
    "\\begin{align}\n",
    "P &= \\binom{n}{k} \\cdot p^k \\cdot (1 - p)^{n-k} \\\\\n",
    "&= \\binom{n}{k} \\cdot (\\frac{1}{2} )^k \\cdot (1 - \\frac{1}{2} )^{n-k} \\\\\n",
    "&= \\binom{n}{k} \\cdot (\\frac{1}{2} )^k \\cdot (\\frac{1}{2} )^{n-k} \\\\\n",
    "&= \\binom{n}{k} \\cdot (\\frac{1}{2} )^n \\\\\n",
    "&= \\frac{n!}{k! \\cdot (n - k)!} \\cdot (\\frac{1}{2} )^n \n",
    "\\end{align}\n",
    "\n",
    "Now the probabilities can be added to the table:\n",
    "\n",
    "|Bucket Number (0 index)|Possible Paths|Number of Paths|Probability (#Paths x $\\cdot (\\frac{1}{2})^n$) |\n",
    "| :-: | :-: | :-: | :-: |\n",
    "|0|LLLL|$\\frac{4!}{0! \\cdot (4 - 0)!} = \\frac{4!}{4!}$ = 1| $1 \\cdot (\\frac{1}{2})^4 $ = 1/16 = 0.0625|\n",
    "|1|RLLL, LRLL, LLRL, LLLR|$\\frac{4!}{1! \\cdot (4 - 1)!} = \\frac{4!}{3!}$ = 4| $4 \\cdot (\\frac{1}{2})^4 $ = 4/16 = 0.25|\n",
    "|2|RRLL, RLRL, RLLR, LRRL, LRLR, LLRR|$\\frac{4!}{2! \\cdot (4 - 2)!} = \\frac{4!}{2 \\cdot 2}$ = 6| $6 \\cdot (\\frac{1}{2})^4 $ = 6/16 = 0.375|\n",
    "|3|LRRR, RLRR, RRLR, RRRL|$\\frac{4!}{3! \\cdot (4 - 3)!} = \\frac{4!}{3!}$ = 4| $4 \\cdot (\\frac{1}{2})^4 $ = 4/16 = 0.25|\n",
    "|4|RRRR|$\\frac{4!}{4! \\cdot (4 - 4)!} = \\frac{4!}{4!}$ = 1| $1 \\cdot (\\frac{1}{2})^4 $ = 1/16|\n",
    "\n",
    "Now we have a way to calculate the number of paths that can be traversed in a Galton Board, to reach a specific endpoint or bucket."
   ]
  },
  {
   "cell_type": "markdown",
   "id": "902cc56b",
   "metadata": {},
   "source": [
    "## Example"
   ]
  },
  {
   "cell_type": "markdown",
   "id": "4bf0ee43",
   "metadata": {},
   "source": [
    "The following code calculates each Binomial coefficient for any board depth, and then plots the data.  Note how the shape of the plot changes when the board depth approaches 10."
   ]
  },
  {
   "cell_type": "code",
   "execution_count": 15,
   "id": "89ebc46f",
   "metadata": {
    "ExecuteTime": {
     "end_time": "2022-01-21T23:43:59.377382Z",
     "start_time": "2022-01-21T23:43:58.358206Z"
    }
   },
   "outputs": [
    {
     "name": "stdout",
     "output_type": "stream",
     "text": [
      "**** Galton Board Output for Depth 100 ****\n",
      "**** Possible Paths 1.267651e+30 \n",
      "Bucket, Possible Paths, Probability Frac, Probability\n",
      "     0,1.00000e+00,1.00000e+00/1.26765e+30,7.88861e-31\n",
      "     1,1.00000e+02,1.00000e+02/1.26765e+30,7.88861e-29\n",
      "     2,4.95000e+03,4.95000e+03/1.26765e+30,3.90486e-27\n",
      "     3,1.61700e+05,1.61700e+05/1.26765e+30,1.27559e-25\n",
      "     4,3.92122e+06,3.92122e+06/1.26765e+30,3.09330e-24\n",
      "     5,7.52875e+07,7.52875e+07/1.26765e+30,5.93914e-23\n",
      "     6,1.19205e+09,1.19205e+09/1.26765e+30,9.40364e-22\n",
      "     7,1.60076e+10,1.60076e+10/1.26765e+30,1.26277e-20\n",
      "     8,1.86088e+11,1.86088e+11/1.26765e+30,1.46797e-19\n",
      "     9,1.90223e+12,1.90223e+12/1.26765e+30,1.50060e-18\n",
      "    10,1.73103e+13,1.73103e+13/1.26765e+30,1.36554e-17\n",
      "    11,1.41630e+14,1.41630e+14/1.26765e+30,1.11726e-16\n",
      "    12,1.05042e+15,1.05042e+15/1.26765e+30,8.28636e-16\n",
      "    13,7.11054e+15,7.11054e+15/1.26765e+30,5.60923e-15\n",
      "    14,4.41869e+16,4.41869e+16/1.26765e+30,3.48574e-14\n",
      "    15,2.53338e+17,2.53338e+17/1.26765e+30,1.99849e-13\n",
      "    16,1.34586e+18,1.34586e+18/1.26765e+30,1.06170e-12\n",
      "    17,6.65013e+18,6.65013e+18/1.26765e+30,5.24603e-12\n",
      "    18,3.06645e+19,3.06645e+19/1.26765e+30,2.41900e-11\n",
      "    19,1.32342e+20,1.32342e+20/1.26765e+30,1.04399e-10\n",
      "    20,5.35983e+20,5.35983e+20/1.26765e+30,4.22816e-10\n",
      "    21,2.04184e+21,2.04184e+21/1.26765e+30,1.61073e-09\n",
      "    22,7.33207e+21,7.33207e+21/1.26765e+30,5.78398e-09\n",
      "    23,2.48653e+22,2.48653e+22/1.26765e+30,1.96152e-08\n",
      "    24,7.97761e+22,7.97761e+22/1.26765e+30,6.29322e-08\n",
      "    25,2.42519e+23,2.42519e+23/1.26765e+30,1.91314e-07\n",
      "    26,6.99575e+23,6.99575e+23/1.26765e+30,5.51867e-07\n",
      "    27,1.91735e+24,1.91735e+24/1.26765e+30,1.51252e-06\n",
      "    28,4.99881e+24,4.99881e+24/1.26765e+30,3.94337e-06\n",
      "    29,1.24108e+25,1.24108e+25/1.26765e+30,9.79043e-06\n",
      "    30,2.93723e+25,2.93723e+25/1.26765e+30,2.31707e-05\n",
      "    31,6.63246e+25,6.63246e+25/1.26765e+30,5.23209e-05\n",
      "    32,1.43013e+26,1.43013e+26/1.26765e+30,1.12817e-04\n",
      "    33,2.94692e+26,2.94692e+26/1.26765e+30,2.32471e-04\n",
      "    34,5.80717e+26,5.80717e+26/1.26765e+30,4.58105e-04\n",
      "    35,1.09507e+27,1.09507e+27/1.26765e+30,8.63856e-04\n",
      "    36,1.97720e+27,1.97720e+27/1.26765e+30,1.55974e-03\n",
      "    37,3.42003e+27,3.42003e+27/1.26765e+30,2.69793e-03\n",
      "    38,5.67005e+27,5.67005e+27/1.26765e+30,4.47288e-03\n",
      "    39,9.01392e+27,9.01392e+27/1.26765e+30,7.11073e-03\n",
      "    40,1.37462e+28,1.37462e+28/1.26765e+30,1.08439e-02\n",
      "    41,2.01164e+28,2.01164e+28/1.26765e+30,1.58691e-02\n",
      "    42,2.82588e+28,2.82588e+28/1.26765e+30,2.22923e-02\n",
      "    43,3.81165e+28,3.81165e+28/1.26765e+30,3.00686e-02\n",
      "    44,4.93782e+28,4.93782e+28/1.26765e+30,3.89526e-02\n",
      "    45,6.14485e+28,6.14485e+28/1.26765e+30,4.84743e-02\n",
      "    46,7.34710e+28,7.34710e+28/1.26765e+30,5.79584e-02\n",
      "    47,8.44135e+28,8.44135e+28/1.26765e+30,6.65905e-02\n",
      "    48,9.32066e+28,9.32066e+28/1.26765e+30,7.35270e-02\n",
      "    49,9.89131e+28,9.89131e+28/1.26765e+30,7.80287e-02\n",
      "    50,1.00891e+29,1.00891e+29/1.26765e+30,7.95892e-02\n",
      "    51,9.89131e+28,9.89131e+28/1.26765e+30,7.80287e-02\n",
      "    52,9.32066e+28,9.32066e+28/1.26765e+30,7.35270e-02\n",
      "    53,8.44135e+28,8.44135e+28/1.26765e+30,6.65905e-02\n",
      "    54,7.34710e+28,7.34710e+28/1.26765e+30,5.79584e-02\n",
      "    55,6.14485e+28,6.14485e+28/1.26765e+30,4.84743e-02\n",
      "    56,4.93782e+28,4.93782e+28/1.26765e+30,3.89526e-02\n",
      "    57,3.81165e+28,3.81165e+28/1.26765e+30,3.00686e-02\n",
      "    58,2.82588e+28,2.82588e+28/1.26765e+30,2.22923e-02\n",
      "    59,2.01164e+28,2.01164e+28/1.26765e+30,1.58691e-02\n",
      "    60,1.37462e+28,1.37462e+28/1.26765e+30,1.08439e-02\n",
      "    61,9.01392e+27,9.01392e+27/1.26765e+30,7.11073e-03\n",
      "    62,5.67005e+27,5.67005e+27/1.26765e+30,4.47288e-03\n",
      "    63,3.42003e+27,3.42003e+27/1.26765e+30,2.69793e-03\n",
      "    64,1.97720e+27,1.97720e+27/1.26765e+30,1.55974e-03\n",
      "    65,1.09507e+27,1.09507e+27/1.26765e+30,8.63856e-04\n",
      "    66,5.80717e+26,5.80717e+26/1.26765e+30,4.58105e-04\n",
      "    67,2.94692e+26,2.94692e+26/1.26765e+30,2.32471e-04\n",
      "    68,1.43013e+26,1.43013e+26/1.26765e+30,1.12817e-04\n",
      "    69,6.63246e+25,6.63246e+25/1.26765e+30,5.23209e-05\n",
      "    70,2.93723e+25,2.93723e+25/1.26765e+30,2.31707e-05\n",
      "    71,1.24108e+25,1.24108e+25/1.26765e+30,9.79043e-06\n",
      "    72,4.99881e+24,4.99881e+24/1.26765e+30,3.94337e-06\n",
      "    73,1.91735e+24,1.91735e+24/1.26765e+30,1.51252e-06\n",
      "    74,6.99575e+23,6.99575e+23/1.26765e+30,5.51867e-07\n",
      "    75,2.42519e+23,2.42519e+23/1.26765e+30,1.91314e-07\n",
      "    76,7.97761e+22,7.97761e+22/1.26765e+30,6.29322e-08\n",
      "    77,2.48653e+22,2.48653e+22/1.26765e+30,1.96152e-08\n",
      "    78,7.33207e+21,7.33207e+21/1.26765e+30,5.78398e-09\n",
      "    79,2.04184e+21,2.04184e+21/1.26765e+30,1.61073e-09\n",
      "    80,5.35983e+20,5.35983e+20/1.26765e+30,4.22816e-10\n",
      "    81,1.32342e+20,1.32342e+20/1.26765e+30,1.04399e-10\n",
      "    82,3.06645e+19,3.06645e+19/1.26765e+30,2.41900e-11\n",
      "    83,6.65013e+18,6.65013e+18/1.26765e+30,5.24603e-12\n",
      "    84,1.34586e+18,1.34586e+18/1.26765e+30,1.06170e-12\n",
      "    85,2.53338e+17,2.53338e+17/1.26765e+30,1.99849e-13\n",
      "    86,4.41869e+16,4.41869e+16/1.26765e+30,3.48574e-14\n",
      "    87,7.11054e+15,7.11054e+15/1.26765e+30,5.60923e-15\n",
      "    88,1.05042e+15,1.05042e+15/1.26765e+30,8.28636e-16\n",
      "    89,1.41630e+14,1.41630e+14/1.26765e+30,1.11726e-16\n",
      "    90,1.73103e+13,1.73103e+13/1.26765e+30,1.36554e-17\n",
      "    91,1.90223e+12,1.90223e+12/1.26765e+30,1.50060e-18\n",
      "    92,1.86088e+11,1.86088e+11/1.26765e+30,1.46797e-19\n",
      "    93,1.60076e+10,1.60076e+10/1.26765e+30,1.26277e-20\n",
      "    94,1.19205e+09,1.19205e+09/1.26765e+30,9.40364e-22\n",
      "    95,7.52875e+07,7.52875e+07/1.26765e+30,5.93914e-23\n",
      "    96,3.92122e+06,3.92122e+06/1.26765e+30,3.09330e-24\n",
      "    97,1.61700e+05,1.61700e+05/1.26765e+30,1.27559e-25\n",
      "    98,4.95000e+03,4.95000e+03/1.26765e+30,3.90486e-27\n",
      "    99,1.00000e+02,1.00000e+02/1.26765e+30,7.88861e-29\n",
      "   100,1.00000e+00,1.00000e+00/1.26765e+30,7.88861e-31\n"
     ]
    },
    {
     "data": {
      "image/png": "[encoded data removed]",
      "text/plain": [
       "<Figure size 1080x360 with 1 Axes>"
      ]
     },
     "metadata": {
      "needs_background": "light"
     },
     "output_type": "display_data"
    }
   ],
   "source": [
    "import math\n",
    "import matplotlib.pyplot as plt\n",
    "import numpy as np\n",
    "\n",
    "SMALL_BOARD_DEPTH = 15\n",
    "\n",
    "def binomialCoefficient(n: int, k: int):\n",
    "    \"\"\"Ensure n and k and the return value are integers\"\"\"\n",
    "    nFactorial = math.factorial(n)\n",
    "    kFactorial = math.factorial(k)\n",
    "    diffFactorial = math.factorial(n - k)\n",
    "    \n",
    "    return int(nFactorial/(kFactorial * diffFactorial))\n",
    "\n",
    "def probabilityForBucket(c: int, t: int):\n",
    "    \"\"\"Calculate the probability of reaching each endpoint.\"\"\"\n",
    "    return float(c/t)\n",
    "\n",
    "def addLabelValues(buckets, values):\n",
    "    \"\"\"Add the y value to a bar.\"\"\"\n",
    "    for i in range(len(buckets)):\n",
    "        plt.text(i,values[i],values[i], ha = 'center',\n",
    "                 bbox = dict(facecolor = 'red', alpha =0.8))    \n",
    "    \n",
    "    return    \n",
    " \n",
    "def plotResults(dataDict):\n",
    "    \"\"\"Plot a bar graph of the results\"\"\"\n",
    "    buckets = list(dataDict.keys())\n",
    "    values = list(dataDict.values())\n",
    "    nBuckets = len(buckets)\n",
    "    \n",
    "    fig = plt.figure(figsize = (15, 5))    \n",
    "    plt.bar(buckets, values, color = 'blue', width = 0.5)\n",
    "    \n",
    "    plt.xlabel(\"Bucket Number\")\n",
    "    plt.xticks(buckets)\n",
    "    plt.ylabel(\"Number of Paths to Bucket\\n(aka Binomial Coefficient)\")\n",
    "    plt.title(f'Histogram of Expected Paths For Board Depth {nBuckets - 1:d}')\n",
    "    \n",
    "    # The plot looks messy if the y-values are printed for large boards.\n",
    "    if len(buckets) <= SMALL_BOARD_DEPTH:\n",
    "        addLabelValues(buckets, values)\n",
    "    plt.show()\n",
    "    \n",
    "    return\n",
    "\n",
    "def printHeader(boardDepth : int , totalPaths : int ):\n",
    "    \"\"\"boardDepth (int), totalPaths (int)\n",
    "        Print a common header for tabular output.\n",
    "    \"\"\"        \n",
    "    print (f'**** Galton Board Output for Depth {boardDepth} ****')\n",
    "    if boardDepth <= SMALL_BOARD_DEPTH:\n",
    "        print (f'**** Possible Paths {totalPaths:d} ')\n",
    "    else:\n",
    "        print (f'**** Possible Paths {totalPaths:2.6e} ')\n",
    "\n",
    "    return\n",
    "\n",
    "def printData( boardDepth : int , totalPaths : int, bucket : int, coeff : int, prob : float ):\n",
    "    \"\"\"boardDepth (int), totalPaths (int), bucket (int), coeff (int), prob (float)\n",
    "        prints the data in csv format\n",
    "    \"\"\"       \n",
    "    # special formatting based on the expected size of the numbers\n",
    "    if boardDepth <= SMALL_BOARD_DEPTH:\n",
    "        print (f'{bucket:6d},{coeff:15d},{coeff:10d}/{totalPaths:d},{prob:4.6f}')\n",
    "    else:\n",
    "        print (f'{bucket:6d},{coeff:2.5e},{coeff :2.5e}/{totalPaths:2.5e},{prob:2.5e}')\n",
    "    \n",
    "    return\n",
    "    \n",
    "def generateData(boardDepth : int , totalPaths : int ):\n",
    "    \"\"\"boardDepth (int), totalPaths (int)\n",
    "        return a list of data\n",
    "    \"\"\"\n",
    "    data = []\n",
    "\n",
    "    printHeader(boardDepth, totalPaths)    \n",
    "    \n",
    "    print (f'Bucket, Possible Paths, Probability Frac, Probability')\n",
    "    for bucket in range(boardDepth + 1):\n",
    "        b = binomialCoefficient(boardDepth, bucket)\n",
    "        p = probabilityForBucket(b, totalPaths)\n",
    "       \n",
    "        printData(boardDepth, totalPaths, bucket, b, p)\n",
    "        \n",
    "        # add to the list of data    \n",
    "        data.append(b)\n",
    " \n",
    "    return data\n",
    "    \n",
    "def createPlot(data):\n",
    "    \"\"\"data is a list.\n",
    "       This method will convert Adthe list to a dictionary and pass it\n",
    "       to a function to create a plot.\n",
    "    \"\"\"\n",
    "    dataDict = {}\n",
    "\n",
    "    # the dictionary needs to be zero based as the index is the bucket number\n",
    "    for i in range(len(data)):\n",
    "        dataDict[i]= data[i]\n",
    "        \n",
    "    plotResults(dataDict)\n",
    "\n",
    "    return\n",
    "    \n",
    "    \n",
    "# Client side code\n",
    "def main(boardDepth = 30):\n",
    "    totalPaths = 2 ** boardDepth\n",
    "    \n",
    "    createPlot(generateData(boardDepth, totalPaths))\n",
    "    \n",
    "    return\n",
    "    \n",
    "# main method\n",
    "if __name__ == '__main__':\n",
    "    main(boardDepth = 100)"
   ]
  },
  {
   "cell_type": "markdown",
   "id": "1aaeb17a",
   "metadata": {
    "ExecuteTime": {
     "end_time": "2022-01-11T23:58:31.168863Z",
     "start_time": "2022-01-11T23:58:31.156717Z"
    }
   },
   "source": [
    "## Derive the Mean and the Variance"
   ]
  },
  {
   "cell_type": "markdown",
   "id": "e21e1613",
   "metadata": {},
   "source": [
    "It is common to ask what the average is of a distribuion. The purpose of this section is to derive the mean (the fancy was to say average in mathematese)."
   ]
  },
  {
   "cell_type": "markdown",
   "id": "3483a37d",
   "metadata": {
    "heading_collapsed": true
   },
   "source": [
    "### Deriving the Binomial Distribution Mean"
   ]
  },
  {
   "cell_type": "markdown",
   "id": "4860c5cd",
   "metadata": {
    "hidden": true
   },
   "source": [
    "The mean of a distribution is defined by\n",
    "\n",
    "\\begin{align}\n",
    "E(x) = \\mu = \\sum_{x=0}^{n} x P(x)\n",
    "\\end{align}\n",
    "\n",
    "Note the following as it will be used later.\n",
    "\\begin{align}\n",
    "(a + b)^n &= \\sum_{x=0}^{n} \\binom{n}{x} a^x b^{n - x} \\\\\n",
    "&= \\sum_{x=0}^{n} \\frac{n!}{x! \\cdot (n - x)!}  a^x b^{n - x}\n",
    "\\end{align}\n",
    "\n",
    "For example, if we want to expand $(a + b)^3$ using the sum of the terms with Binomial coefficients, the result is:\n",
    "\\begin{align}\n",
    "(a + b)^3 &= \\sum_{x=0}^{3} \\binom{3}{x} a^x b^{3 - x} \\\\\n",
    "&= \\frac{3!}{ \\underbrace{0!}_{\\text{= 1}} \\cdot (3 - 0)!} a^0 b^{3-0} + \\frac{3!}{1! \\cdot (3 - 1)!} a^1 b^{3-1} + \\frac{3!}{2! \\cdot (3 - 2)!} a^2 b^{3-2} + \\frac{3!}{3! \\cdot (3 - 3)!} a^3 b^{3-3} \\\\\n",
    "&= b^3 + 3 a b^2 + 3 a^2 b + a^3 \\\\\n",
    "&= a^3 + 3 a b^2 + 3 a^2 b + b^3 \n",
    "\\end{align}\n",
    "\n",
    "\n",
    "To calculate the mean\n",
    "\\begin{align}\n",
    "E(x) &= \\sum_{x=0}^{N} x P(x) \\\\\n",
    "&= \\sum_{x = 0}^{N} \\underbrace{x \\cdot \\frac{n!}{x! \\cdot (n - x)!}  p^x (1 - p)^{n - x}}_{\\text{=0 when x = 0}} \\\\\n",
    "&= \\sum_{x = 1}^{N} x \\cdot \\frac{n!}{x! \\cdot (n - x)!}  p^x (1 - p)^{n - x} \\\\\n",
    "&= \\sum_{x = 1}^{N} \\frac{n!}{(x - 1)! \\cdot (n - x)!}  p^x (1 - p)^{n - x} \\\\\n",
    "&= n \\sum_{x = 1}^{N} \\frac{(n - 1)!}{(x - 1)! \\cdot (n - x)!}  p^x (1 - p)^{n - x} \\\\\n",
    "&= np \\sum_{x = 1}^{N} \\frac{(n - 1)!}{(x - 1)! \\cdot \\underbrace{(n - x)}_{=(n - 1) - (x - 1)}!}  (1 - p)^{x - 1} p^{n - x} \\\\\n",
    "&= np \\sum_{x = 1}^{N} \\frac{(n - 1)!}{(x - 1)! \\cdot [(n - 1) - (x - 1)]!}  p^{x - 1} (1 - p)^{(n - 1) - (x - 1)} \\\\\n",
    "\\text{let m = n - 1 and y = x - 1}  \\\\\n",
    "&= np \\sum_{y = 0}^{m} \\frac{m!}{y! \\cdot (m - y)!}  p^{y} (1 - p)^{(m - y)}    \\\\\n",
    "&= np \\underbrace{\\sum_{y = 0}^{m} \\binom{m}{y}  p^{y} (1 - p)^{(m - y)}}_{= (a + b)^m} \\\\\n",
    "\\text{substitute a = p and b = 1 - p} \\\\\n",
    "&= np \\cdot (p + (1 - p) )^m \\\\\n",
    "&= np \\cdot 1^m \\\\\n",
    "&= np\n",
    "\\end{align}\n"
   ]
  },
  {
   "cell_type": "markdown",
   "id": "9b64b9ed",
   "metadata": {},
   "source": [
    "### Deriving the Binomial Distribution Variance"
   ]
  },
  {
   "cell_type": "markdown",
   "id": "9e711a90",
   "metadata": {},
   "source": [
    "The variance of a distribution is the difference between x and the mean of the distribution.  It is defined by\n",
    "\n",
    "\\begin{align}\n",
    "var(x) &= [(x - \\mu)^2] \\\\\n",
    "&= E(x^2) - [\\underbrace{E(x)}_{\\text{= np}}]^2\n",
    "\\end{align}\n",
    "\n",
    "Need to find $E(x^2)$.\n",
    "\\begin{align}\n",
    "E(x^2) &= \\sum_{x=0}^{N} x^2 P(x)\n",
    "\\end{align}\n",
    "\n",
    "The trick to this is to calculate $E[(x(x-1)] = E(x^2 - x) = E(x^2) - E(x)$.\n",
    "\\begin{align}\n",
    "E(x^2 - x) &= \\sum_{x=0}^{N} x^2 P(x) \\\\\n",
    "&= \\sum_{x = 0}^{N} \\underbrace{x(x-1) \\cdot \\frac{n!}{x! \\cdot (n - x)!}  p^x (1 - p)^{n - x}}_{\\text{=0 when x = 0 and x = 1}} \\\\\n",
    "&= \\sum_{x = 2}^{N} x(x-1) \\cdot \\frac{n!}{x \\cdot (x - 1) \\cdot (x - 2)! \\cdot (n - x)!}  p^x (1 - p)^{n - x} \\\\\n",
    "&= \\sum_{x = 2}^{N} \\cdot \\frac{n!}{(x - 2)! \\cdot (n - x)!}  p^x (1 - p)^{n - x} \\\\\n",
    "\\text{since the sum starts with an index of 2,} \\\\\n",
    "\\text{certain terms will be pulled out.} \\\\\n",
    "&= n \\cdot (n - 1) \\sum_{x = 2}^{N} \\cdot \\frac{(n - 2)!}{(x - 2)! \\cdot (n - x)!}  p^x (1 - p)^{n - x} \\\\\n",
    "&= n \\cdot (n - 1) \\cdot p^2 \\sum_{x = 2}^{N} \\cdot \\frac{(n - 2)!}{(x - 2)! \\cdot \\underbrace{(n - x)}_{= (n - 1) - (x - 1)}!}  p^{x - 2} (1 - p)^{n - x} \\\\\n",
    "&= n \\cdot (n - 1) \\cdot p^2 \\sum_{x = 2}^{N} \\cdot \\frac{(n - 2)!}{(x - 2)! \\cdot [(n - 1) - (x - 1)]!}  p^{x - 2} (1 - p)^{[(n - 1) - (x - 1)]} \\\\\n",
    "\\text{let m = n - 2 and y = x - 2}  \\\\\n",
    "&= n \\cdot (n - 1) \\cdot p^2 \\sum_{y=0}^{m} \\cdot \\frac{m!}{y! \\cdot (m - y)!}  p^{y} (1 - p)^{m - y} \\\\\n",
    "&= n \\cdot (n - 1) \\cdot p^2 \\underbrace{\\sum_{y = 0}^{m} \\binom{m}{y}  p^{y} (1 - p)^{(m - y)}}_{= (a + b)^m} \\\\\n",
    "\\text{substitute a = p and b = 1 - p} \\\\\n",
    "&= n(n-1)p^2 \\cdot (p + (1 - p) )^m \\\\\n",
    "&= n(n-1)p^2 \\cdot 1^m \\\\\n",
    "&= n(n-1)p^2\n",
    "\\end{align}\n",
    "\n",
    "\\begin{align}\n",
    "E(x^2 - x) &= E(x^2) - E(x) \\\\\n",
    "&= E(x^2) - np =  n(n-1)p^2 \n",
    "\\end{align}\n",
    "\n",
    "Therefore, \n",
    "\\begin{align}\n",
    "E(x^2) =  n(n-1)p^2 + np \n",
    "\\end{align}\n",
    "\n",
    "and the variance is then \n",
    "\\begin{align}\n",
    "var(x) &=  E(x^2) - [E(x)]^2 \\\\\n",
    "&= n(n-1)p^2 + np - (np)^2 \\\\\n",
    "&= (np)^2 - np^2 + np - (np)^2 \\\\\n",
    "&= np - np^2 \\\\\n",
    "&= np (1 - p)\n",
    "\\end{align}\n"
   ]
  },
  {
   "cell_type": "markdown",
   "id": "171d6877",
   "metadata": {},
   "source": [
    "# Poisson Distribution "
   ]
  },
  {
   "cell_type": "markdown",
   "id": "f25601e5",
   "metadata": {},
   "source": [
    "The Binomial Distribution defines how to calculate the probability of reaching a certain endpoint which there are k ways to randomly traverse a path of n layers.  What happens when there are hundreds or thousands of random paths to traverse in a board that is a million, or even a billion layers deep?  How do we calculate the coefficients of each bucket when 1,000,000! is a huge number?  Is this practical?\n",
    "\n",
    "It turns out as the depth of the board (number of layers to traverse) approaches a large number, and the probability of reaching any of the endpoints becomes really small, we can approximate the result of the Binomial Distribution with the values calcualted from another distribution called the Poisson Distribution.\n",
    "\n",
    "Let's work through this.  "
   ]
  },
  {
   "cell_type": "markdown",
   "id": "b8d6b0b0",
   "metadata": {},
   "source": [
    "## Derivation of the Poisson Distribution"
   ]
  },
  {
   "cell_type": "markdown",
   "id": "63df16bd",
   "metadata": {},
   "source": [
    "Assume that np is a constant ($\\lambda$).  The Binomial Distribution can then be written as\n",
    "\\begin{align}\n",
    "P &= \\binom{n}{x} \\cdot (\\frac{\\lambda}{n})^x \\cdot (1 - \\frac{\\lambda}{n})^{n-x} \\\\\n",
    "&= \\frac{n!}{x! \\cdot (n - x)!} \\cdot (\\frac{\\lambda}{n})^x \\cdot (1 - \\frac{\\lambda}{n})^{n - x}  \\\\\n",
    "&= (\\frac{\\lambda}{n})^x \\cdot \\frac{n!}{x! \\cdot (n - x)!}  \\cdot (1 - \\frac{\\lambda}{n})^{n - x}  \\\\\n",
    "&= (\\frac{\\lambda^x}{n^x}) \\cdot \\frac{n!}{x! \\cdot (n - x)!}  \\cdot (1 - \\frac{\\lambda}{n})^{n - x}  \\\\\n",
    "&= (\\frac{\\lambda^x}{x!}) \\underbrace{\\cdot \\frac{n!}{n^x \\cdot (n - x)!}}_{= \\frac{n \\cdot (n-1) \\cdot (n-2) \\cdot (n-x+1) \\cdot (n-x) \\cdot (n-x-1) \\cdot (n-x-2) \\cdots 2 \\cdot 1}{(n-x)! \\cdot n \\cdot n \\cdot n \\cdot \\cdots n \\cdot}}  \\cdot (1 - \\frac{\\lambda}{n})^{n - x}  \\\\\n",
    "&= (\\frac{\\lambda^x}{x!}) \\frac{n(n-1)(n-2)\\cdots(n-x+1)(n-x)!}{(n-x)!n^x} \\cdot (1 - \\frac{\\lambda}{n})^{n - x}  \\\\\n",
    "&= (\\frac{\\lambda^x}{x!}) \\underbrace{\\frac{n(n-1)(n-2)\\cdots(n-x+1)}{n^x}}_{\\text{x terms in numerator and denominator.}} \\cdot (1 - \\frac{\\lambda}{n})^{n - x}  \\\\\n",
    "&= (\\frac{\\lambda^x}{x!}) \\left[\\frac{n}{n} \\cdot \\frac{(n-1)}{n} \\cdot \\frac{(n-2)}{n} \\cdots \\frac{(n-x+1)}{n} \\right] \\cdot (1 - \\frac{\\lambda}{n})^{n - x}  \\\\\n",
    "&= (\\frac{\\lambda^x}{x!}) \\left[1 \\cdot (1 - \\frac{1}{n}) \\cdot (1 - \\frac{2}{n}) \\cdots (1 - \\frac{x-1}{n}) \\right] \\cdot (1 - \\frac{\\lambda}{n})^{n - x}  \\\\\n",
    "&= (\\frac{\\lambda^x}{x!}) \\underbrace{\\left[1 \\cdot (1 - \\frac{1}{n}) \\cdot (1 - \\frac{2}{n}) \\cdots (1 - \\frac{x-1}{n}) \\right]}_{\\text{as n $\\rightarrow \\infty$ each term $\\rightarrow$ 1}} \\cdot (1 - \\frac{\\lambda}{n})^{n - x}  \\\\\n",
    "&= (\\frac{\\lambda^x}{x!}) \\cdot (1 - \\frac{\\lambda}{n})^{n - x}  \\\\\n",
    "&= (\\frac{\\lambda^x}{x!}) \\cdot (1 - \\frac{\\lambda}{n})^n \\cdot (1 - \\frac{\\lambda}{n})^{-x}   \\\\\n",
    "&= (\\frac{\\lambda^x}{x!}) \\cdot \\underbrace{(1 - \\frac{\\lambda}{n})^{n}}_{\\text{recall $e^x = \\lim_{n \\to \\infty}(1 + \\frac{x}{n})^n$}}  \\cdot (1 - \\frac{\\lambda}{n})^{-x}    \\\\\n",
    "&= (\\frac{\\lambda^x}{x!}) e^{- \\lambda} \\cdot \\underbrace{(1 - \\frac{\\lambda}{n})^{-x}}_{\\text{as n $\\rightarrow \\infty$ this term $\\rightarrow$ 1}}  \\\\\n",
    "&= (\\frac{\\lambda^x}{x!}) e^{- \\lambda}\n",
    "\\end{align}"
   ]
  },
  {
   "cell_type": "markdown",
   "id": "d939c270",
   "metadata": {},
   "source": [
    "## Calculate Probabilities"
   ]
  },
  {
   "cell_type": "markdown",
   "id": "a1d63a44",
   "metadata": {},
   "source": [
    "ddfdfdfg\n",
    "What is the probability of a ball reaching buckeet 35 of a Galton Board with a depth of 70?  We know from the Binomial Distribution that xxxx.  How can the Poisson Distribuion help?\n"
   ]
  },
  {
   "cell_type": "markdown",
   "id": "e3bb5ff4",
   "metadata": {},
   "source": [
    "# Guassian Distribution"
   ]
  },
  {
   "cell_type": "markdown",
   "id": "f5cac511",
   "metadata": {},
   "source": [
    "In the example in Section 2.3, the user can vary the depth of the Galton Board.  As the depth of the board increases, the histogram transforms into a well-known distribution:  the Normal Distribution.  The mean is equal to the median and mode at the center of the plot.\n",
    "\n",
    "How does the Bionmial Distribution which governs the expectation of how many times an endpoint (e.g. bucket) will be reached, relate to the well-known distribution curve that is observed for large n?  We saw that as np = $\\lambda \\rightarrow \\infty$, the Binomial Distribution can be approximated by the Poisson Distribution.  \n",
    "\n",
    "Let's see what happens when n $\\rightarrow \\infty$ and the number of possible paths leading to a specific endpoint $\\rightarrow \\infty$.  We will start with the Poisson probability density function.  Additionally, for large x, x! can be approximated by the Sterling approximation\n",
    "\n",
    "\\begin{align}\n",
    "x! \\approx \\sqrt{2 \\pi} \\cdot e^{-x} \\cdot x^{x + \\frac{1}{2}}\n",
    "\\end{align}\n",
    "\n",
    "Starting with the Poisson pdf, \n",
    "\\begin{align}\n",
    "P(x) &= (\\frac{\\lambda^x}{x!}) \\cdot e^{- \\lambda} \\\\\n",
    "&= (\\frac{\\lambda^x}{\\sqrt{2 \\pi} \\cdot e^{-x} \\cdot x^{x + \\frac{1}{2}}}) e^{- \\lambda} \\\\\n",
    "&= \\frac{1}{\\sqrt{2 \\pi}} \\cdot \\frac{\\lambda^x \\cdot e^{-\\lambda} \\cdot e^{x}}{ x^{x + \\frac{1}{2}}}  \\\\\n",
    "&= \\frac{1}{\\sqrt{2 \\pi}} \\cdot \\frac{\\lambda^x \\cdot e^{-\\lambda} \\cdot e^{x}}{x^{x + \\frac{1}{2}}} \\cdot \\frac{\\sqrt{\\lambda}}{\\sqrt{\\lambda}}  \\\\\n",
    "&= \\frac{1}{\\sqrt{2 \\pi \\lambda}} \\cdot \\frac{\\lambda^{x + \\frac{1}{2}} \\cdot e^{-(\\lambda - x)}}{x^{x + \\frac{1}{2}}} \\\\\n",
    "\\end{align}\n",
    "\n",
    "The following steps will focus on the following term that will be set to B:\n",
    "\\begin{align}\n",
    "B  &= \\frac{\\lambda^{x + \\frac{1}{2}} \\cdot e^{-(\\lambda - x)}}{x^{x + \\frac{1}{2}}} \\\\\n",
    "&= \\lim_{\\lambda \\rightarrow \\infty \\\\ x \\rightarrow \\infty} \\frac{\\lambda^{x + \\frac{1}{2}} \\cdot e^{-(\\lambda - x)}}{x^{x + \\frac{1}{2}}} \\\\\n",
    "&= \\lim_{\\lambda \\rightarrow \\infty \\\\ x \\rightarrow \\infty} (\\frac{\\lambda}{x})^{x + \\frac{1}{2}} \\cdot e^{-(\\lambda - x)}\n",
    "\\end{align}\n",
    "\n",
    "Let's create a variable Z, which represents the number of standard deviations from the mean x is, and is mathematically defined as:\n",
    "\\begin{align}\n",
    "Z &= \\frac{x - \\lambda}{\\sqrt \\lambda} \\\\\n",
    "x &= Z \\sqrt{\\lambda} + \\lambda \\\\\n",
    "\\frac{x}{\\lambda} &= 1 + \\frac{Z}{\\sqrt{\\lambda}} \\\\\n",
    "\\frac{\\lambda}{x} &= (1 + \\frac{Z}{\\sqrt{\\lambda}})^{-1} \n",
    "\\end{align}\n",
    "\n",
    "Recall, that the mean, $\\mu = \\lambda = np = E(x) $.  Making the substitutions \n",
    "\\begin{align}\n",
    "e^{-(\\lambda - x)} &= e^{x - \\lambda} = e^{Z \\sqrt{\\lambda}}\\\\\n",
    "(\\frac{\\lambda}{x})^{x + \\frac{1}{2}} &=\n",
    "(1 + \\frac{Z}{\\sqrt{\\lambda}})^{-1 \\cdot (Z \\sqrt{\\lambda} + \\lambda + \\frac{1}{2})} = (1 + \\frac{Z}{\\sqrt{\\lambda}})^{-(Z \\sqrt{\\lambda} + \\lambda + \\frac{1}{2})} \\\\\n",
    "\\therefore \\\\\n",
    "B &= e^{Z \\sqrt{\\lambda}} \\cdot (1 + \\frac{Z}{\\sqrt{\\lambda}})^{-(Z \\sqrt{\\lambda} + \\lambda + \\frac{1}{2})} \\\\\n",
    "ln(B) &= ln(e^{Z \\sqrt{\\lambda}} \\cdot (1 + \\frac{Z}{\\sqrt{\\lambda}})^{-(Z \\sqrt{\\lambda} + \\lambda + \\frac{1}{2})}) \\\\\n",
    "&= Z \\sqrt{\\lambda} -(Z \\sqrt{\\lambda} + \\lambda + \\frac{1}{2}) \\cdot ln(1 + \\frac{Z}{\\sqrt{\\lambda}}) \\\\\n",
    "\\end{align}\n",
    "\n",
    "The ln term can be expanded using the Taylor series approach, \n",
    "\\begin{align}\n",
    "f(y) &= f(y_0) + y f'(y_0) + \\frac{y^2}{2!} f''(y_0) + \\frac{y^3}{3!} f'''(y_0) \\cdots \\\\\n",
    "ln (1 + y) &= ln(1 + y_0) + y \\frac{1}{(1 + y_0)} + \\frac{-y^2}{2! \\cdot (1 + y_0)^2} + \\frac{-1 \\cdot -2 \\cdot y^3}{3! \\cdot (1 + y_0)^3} \\cdots \\\\\n",
    "\\text{approximation is taken around $y_{0} = 0$, so} \\\\\n",
    "&= ln(1) + y \\frac{1}{(1)} + \\frac{-y^2}{2! \\cdot (1)^2} + \\frac{-1 \\cdot -2 \\cdot y^3}{3! \\cdot (1)^3} \\cdots \\\\\n",
    "&= 0 + y - \\frac{y^2}{2} + \\frac{y^3}{3} \\cdots \\\\\n",
    "&= y - \\frac{y^2}{2} + \\frac{y^3}{3} \\cdots \n",
    "\\end{align}\n",
    "\n",
    "Substituting for y = $\\frac{Z}{\\sqrt \\lambda}$\n",
    "\\begin{align}\n",
    "ln(B) &= Z \\sqrt{\\lambda} -(Z \\sqrt{\\lambda} + \\lambda + \\frac{1}{2}) \\cdot ln(1 + \\frac{Z}{\\sqrt{\\lambda}}) \\\\\n",
    "&= Z \\sqrt{\\lambda} -(Z \\sqrt{\\lambda} + \\lambda + \\frac{1}{2}) \\cdot \\left[\\frac{Z}{\\sqrt \\lambda} - \\frac{(\\frac{Z}{\\sqrt \\lambda})^2}{2} + \\frac{(\\frac{Z}{\\sqrt \\lambda})^3}{3} \\cdots \\right] \\\\\n",
    "&= Z \\sqrt{\\lambda} -(Z \\sqrt{\\lambda} + \\lambda + \\frac{1}{2}) \\cdot \\left[\\frac{Z}{\\sqrt \\lambda} - \\frac{Z^2}{2 \\lambda} + \\frac{1}{3}(\\frac{Z^3}{\\lambda^{\\frac{3}{2}}}) + \\cdots \\right] \\\\\n",
    "&= Z \\sqrt{\\lambda} - \\left(Z^2 -\\frac{Z^3}{2 \\sqrt \\lambda} \\cdots + Z \\sqrt \\lambda - \\frac{Z^2}{2} + \\cdots + \\frac{Z}{2 \\sqrt \\lambda} - \\frac{Z^2}{4 \\sqrt \\lambda} + \\cdots\\right)\\\\\n",
    "&= - Z^2 + \\frac{Z^3}{2 \\sqrt \\lambda} \\cdots + \\frac{Z^2}{2} - \\cdots - \\frac{Z}{2 \\sqrt \\lambda} + \\frac{Z^2}{4 \\sqrt \\lambda} - \\cdots \\\\\n",
    "&= - \\frac{Z^2}{2} - \\frac{Z}{2 \\sqrt \\lambda} + \\frac{Z^2}{4 \\sqrt \\lambda} + \\frac{Z^3}{2 \\sqrt \\lambda} - \\cdots\n",
    "\\end{align}\n",
    "\n",
    "Taking the limit of $\\lambda \\rightarrow \\infty$, \n",
    "\\begin{align}\n",
    "\\lim_{\\lambda \\rightarrow \\infty} ln(B) &= \\lim_{\\lambda \\rightarrow \\infty} - \\frac{Z^2}{2} - \\frac{Z}{2 \\sqrt \\lambda} + \\frac{Z^2}{4 \\sqrt \\lambda} + \\frac{Z^3}{2 \\sqrt \\lambda} - \\cdots \\\\\n",
    " &= \\lim_{\\lambda \\rightarrow \\infty} - \\frac{Z^2}{2}  - \\underbrace{\\frac{Z}{2 \\sqrt \\lambda}}_{\\lambda \\rightarrow \\infty \\\\ \\rightarrow 0} + \\underbrace{\\frac{Z^2}{4 \\sqrt \\lambda}}_{\\lambda \\rightarrow \\infty \\\\ \\rightarrow 0} + \\underbrace{\\frac{Z^3}{2 \\sqrt \\lambda}}_{\\lambda \\rightarrow \\infty \\\\ \\rightarrow 0} - \\cdots \\\\\n",
    " &= - \\frac{Z^2}{2} \n",
    "\\end{align}\n",
    "\n",
    "Therefore,\n",
    "\\begin{align}\n",
    "\\lim_{\\lambda \\rightarrow \\infty} ln(B) &= \\lim_{\\lambda \\rightarrow \\infty } ln \\left[(\\frac{\\lambda}{x})^{x + \\frac{1}{2}} \\cdot e^{-(\\lambda - x)} \\right] \\\\\n",
    " &= - \\frac{Z^2}{2} \\\\\n",
    " e^{ln(B)} &= e^{-\\frac{Z^2}{2}} \\\\\n",
    " B &= e^{-\\frac{Z^2}{2}} \\\\\n",
    " \\therefore \\\\\n",
    " P(x) &= \\frac{1}{\\sqrt{2 \\pi \\lambda}} B \\\\\n",
    " &= \\frac{1}{\\sqrt{2 \\pi \\lambda}} e^{-\\frac{Z^2}{2}} \\\\\n",
    " &= \\frac{1}{\\sqrt{2 \\pi \\lambda}} e^{-\\frac{1}{2}(\\frac{x-\\lambda}{\\sqrt{\\lambda}})^2} \\\\\n",
    " &= \\frac{1}{\\sqrt{2 \\pi} \\sigma} e^{-\\frac{1}{2}(\\frac{x-\\mu}{\\sigma})^2} \\\\\n",
    "\\end{align}\n"
   ]
  }
 ],
 "metadata": {
  "kernelspec": {
   "display_name": "Python 3",
   "language": "python",
   "name": "python3"
  },
  "language_info": {
   "codemirror_mode": {
    "name": "ipython",
    "version": 3
   },
   "file_extension": ".py",
   "mimetype": "text/x-python",
   "name": "python",
   "nbconvert_exporter": "python",
   "pygments_lexer": "ipython3",
   "version": "3.9.1"
  },
  "toc": {
   "base_numbering": 1,
   "nav_menu": {},
   "number_sections": true,
   "sideBar": true,
   "skip_h1_title": false,
   "title_cell": "Table of Contents",
   "title_sidebar": "Contents",
   "toc_cell": false,
   "toc_position": {},
   "toc_section_display": true,
   "toc_window_display": false
  },
  "varInspector": {
   "cols": {
    "lenName": 16,
    "lenType": 16,
    "lenVar": 40
   },
   "kernels_config": {
    "python": {
     "delete_cmd_postfix": "",
     "delete_cmd_prefix": "del ",
     "library": "var_list.py",
     "varRefreshCmd": "print(var_dic_list())"
    },
    "r": {
     "delete_cmd_postfix": ") ",
     "delete_cmd_prefix": "rm(",
     "library": "var_list.r",
     "varRefreshCmd": "cat(var_dic_list()) "
    }
   },
   "types_to_exclude": [
    "module",
    "function",
    "builtin_function_or_method",
    "instance",
    "_Feature"
   ],
   "window_display": false
  }
 },
 "nbformat": 4,
 "nbformat_minor": 5
}
